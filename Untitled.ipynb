{
 "cells": [
  {
   "cell_type": "code",
   "execution_count": 1,
   "id": "collective-raising",
   "metadata": {},
   "outputs": [],
   "source": [
    "from src.utils.general import *\n",
    "from src.pipeline.ingesta_almacenamiento import *"
   ]
  },
  {
   "cell_type": "code",
   "execution_count": 3,
   "id": "union-memorial",
   "metadata": {},
   "outputs": [],
   "source": [
    "inicial=ingesta_inicial(get_client(),200)"
   ]
  },
  {
   "cell_type": "code",
   "execution_count": 4,
   "id": "ideal-amazon",
   "metadata": {},
   "outputs": [],
   "source": [
    "guardar_ingesta(inicial, 'bucket-vianney', 'ingesta-inicial-')"
   ]
  },
  {
   "cell_type": "code",
   "execution_count": 5,
   "id": "recorded-intensity",
   "metadata": {},
   "outputs": [],
   "source": [
    "consecutiva=ingesta_consecutiva(get_client(),'2021-02-22T00:00:00.000',30)"
   ]
  },
  {
   "cell_type": "code",
   "execution_count": 6,
   "id": "chubby-hebrew",
   "metadata": {},
   "outputs": [],
   "source": [
    "guardar_ingesta(consecutiva, 'bucket-vianney', 'ingesta-consecutiva-')"
   ]
  },
  {
   "cell_type": "code",
   "execution_count": null,
   "id": "outdoor-contractor",
   "metadata": {},
   "outputs": [],
   "source": []
  }
 ],
 "metadata": {
  "kernelspec": {
   "display_name": "Python 3",
   "language": "python",
   "name": "python3"
  },
  "language_info": {
   "codemirror_mode": {
    "name": "ipython",
    "version": 3
   },
   "file_extension": ".py",
   "mimetype": "text/x-python",
   "name": "python",
   "nbconvert_exporter": "python",
   "pygments_lexer": "ipython3",
   "version": "3.7.4"
  }
 },
 "nbformat": 4,
 "nbformat_minor": 5
}
